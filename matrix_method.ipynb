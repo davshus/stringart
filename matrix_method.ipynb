{
 "cells": [
  {
   "cell_type": "code",
   "execution_count": 25,
   "metadata": {
    "pycharm": {
     "is_executing": false
    }
   },
   "outputs": [],
   "source": [
    "# import cv2\n",
    "import math\n",
    "import numpy as np\n",
    "from PIL import Image\n",
    "import scipy\n",
    "import scipy.misc\n",
    "import scipy.sparse\n",
    "import scipy.sparse.linalg\n",
    "import matplotlib.pyplot as plt\n",
    "from artboard import Artboard, Yarn\n",
    "n=120\n",
    "d=304.8\n",
    "dim = 500\n",
    "board = Artboard(d, n)"
   ]
  },
  {
   "cell_type": "code",
   "execution_count": 26,
   "metadata": {
    "pycharm": {
     "is_executing": false,
     "name": "#%%\n"
    }
   },
   "outputs": [
    {
     "data": {
      "text/plain": [
       "<matplotlib.image.AxesImage at 0x7fd915d4ee10>"
      ]
     },
     "execution_count": 26,
     "metadata": {},
     "output_type": "execute_result"
    },
    {
     "data": {
      "image/png": "[encoded data removed]",
      "text/plain": [
       "<Figure size 432x288 with 1 Axes>"
      ]
     },
     "metadata": {
      "needs_background": "light"
     },
     "output_type": "display_data"
    }
   ],
   "source": [
    "#random 500x500 image\n",
    "img = 255 - np.array(Image.open('img/calibrate.png').convert('L'))\n",
    "plt.imshow(img, cmap='binary')\n",
    "# img = img**2"
   ]
  },
  {
   "cell_type": "code",
   "execution_count": 27,
   "metadata": {
    "pycharm": {
     "is_executing": false,
     "name": "#%%\n"
    }
   },
   "outputs": [
    {
     "data": {
      "text/plain": [
       "(array([[250,   0],\n",
       "        [228,   1],\n",
       "        [229,   1],\n",
       "        ...,\n",
       "        [270, 499],\n",
       "        [271, 499],\n",
       "        [272, 499]]),\n",
       " array([0, 0, 0, ..., 0, 0, 0], dtype=uint8))"
      ]
     },
     "execution_count": 27,
     "metadata": {},
     "output_type": "execute_result"
    }
   ],
   "source": [
    "img_test = np.zeros(img.shape)\n",
    "pixels_arr=[]\n",
    "img_data_arr=[]\n",
    "curr_pixel_id = 0\n",
    "pixel_id_lookup = [[-1] * dim] * dim\n",
    "for y in range(0, dim):\n",
    "    for x in range(0, dim):\n",
    "        if (x - dim/2)**2 + (y - dim/2)**2 <= (dim/2)**2:\n",
    "            pixels_arr.append([x, y])\n",
    "            pixel_id_lookup[x][y] = curr_pixel_id\n",
    "            img_data_arr.append(img[dim - y - 1][x])\n",
    "            curr_pixel_id += 1\n",
    "pixels = np.array(pixels_arr)\n",
    "img_data = np.array(img_data_arr)\n",
    "(pixels, img_data)"
   ]
  },
  {
   "cell_type": "code",
   "execution_count": 28,
   "metadata": {
    "pycharm": {
     "is_executing": false,
     "name": "#%%\n"
    }
   },
   "outputs": [
    {
     "data": {
      "text/plain": [
       "<matplotlib.collections.PathCollection at 0x7fd93fc39c50>"
      ]
     },
     "execution_count": 28,
     "metadata": {},
     "output_type": "execute_result"
    },
    {
     "data": {
      "image/png": "[encoded data removed]",
      "text/plain": [
       "<Figure size 432x288 with 1 Axes>"
      ]
     },
     "metadata": {
      "needs_background": "light"
     },
     "output_type": "display_data"
    }
   ],
   "source": [
    "plt.axes().set_aspect('equal')\n",
    "plt.scatter(pixels[:,0],pixels[:,1])"
   ]
  },
  {
   "cell_type": "code",
   "execution_count": 29,
   "metadata": {
    "pycharm": {
     "is_executing": false,
     "name": "#%%\n"
    }
   },
   "outputs": [
    {
     "data": {
      "text/plain": [
       "array([[[250.        , 499.        ],\n",
       "        [236.9683469 , 498.65875415]],\n",
       "\n",
       "       [[250.        , 499.        ],\n",
       "        [223.97241265, 497.63595195]],\n",
       "\n",
       "       [[250.        , 499.        ],\n",
       "        [211.0478182 , 495.93439681]],\n",
       "\n",
       "       ...,\n",
       "\n",
       "       [[288.9521818 , 495.93439681],\n",
       "        [276.02758735, 497.63595195]],\n",
       "\n",
       "       [[288.9521818 , 495.93439681],\n",
       "        [263.0316531 , 498.65875415]],\n",
       "\n",
       "       [[276.02758735, 497.63595195],\n",
       "        [263.0316531 , 498.65875415]]])"
      ]
     },
     "execution_count": 29,
     "metadata": {},
     "output_type": "execute_result"
    }
   ],
   "source": [
    "strings_arr=[]\n",
    "string_id_to_pins=[]\n",
    "def get_point(pin):\n",
    "    angle = board._pin_angle_(pin)\n",
    "    radius = (dim - 2) / 2.0\n",
    "    return [radius * math.cos(angle), radius * math.sin(angle)]\n",
    "for i in range(0,n):\n",
    "    for j in range(i+1,n):\n",
    "        string_id_to_pins.append((i,j))\n",
    "        strings_arr.append([get_point(i), get_point(j)])\n",
    "        # if len(strings_arr) == 635:\n",
    "        #     print(i, j, strings_arr[634])\n",
    "strings = np.array(strings_arr) + np.array([dim/2.0, dim/2.0])\n",
    "strings"
   ]
  },
  {
   "cell_type": "markdown",
   "metadata": {},
   "source": [
    "Naive attempt at measuring effect of a string on a pixel.\n",
    "\n"
   ]
  },
  {
   "cell_type": "code",
   "execution_count": 30,
   "metadata": {
    "pycharm": {
     "is_executing": false,
     "name": "#%%\n"
    }
   },
   "outputs": [
    {
     "name": "stderr",
     "output_type": "stream",
     "text": [
      "/home/david/.local/lib/python3.6/site-packages/ipykernel_launcher.py:24: DeprecationWarning: In future, it will be an error for 'np.bool_' scalars to be interpreted as an index\n"
     ]
    },
    {
     "data": {
      "text/plain": [
       "<196319x7140 sparse matrix of type '<class 'numpy.float64'>'\n",
       "\twith 953989 stored elements in Compressed Sparse Row format>"
      ]
     },
     "execution_count": 30,
     "metadata": {},
     "output_type": "execute_result"
    }
   ],
   "source": [
    "\n",
    "coo_matrix_values = []\n",
    "coo_matrix_rows = []\n",
    "coo_matrix_cols = []\n",
    "max_score = 0.4\n",
    "def putpixel(string_id, xy, alpha=1):\n",
    "    # coo_matrix_values.append(val)\n",
    "    # coo_matrix_rows.append(pixel_id)\n",
    "    # coo_matrix_cols.append(string_id)\n",
    "    coo_matrix_values.append(max_score*alpha)\n",
    "    coo_matrix_rows.append(pixel_id_lookup[xy[0]][xy[1]])\n",
    "    coo_matrix_cols.append(string_id)\n",
    "def _fpart(x):\n",
    "    return x - int(x)\n",
    " \n",
    "def _rfpart(x):\n",
    "    return 1 - _fpart(x)\n",
    "def draw_line(string_id, p1, p2):\n",
    "    \"\"\"Draws an anti-aliased line in img from p1 to p2 with the given color.\"\"\"\n",
    "    x1, y1 = p1\n",
    "    x2, y2 = p2\n",
    "    # print(y2,y1)\n",
    "    dx, dy = x2-x1, y2-y1\n",
    "    steep = abs(dx) < abs(dy)\n",
    "    p = lambda px, py: ((px,py), (py,px))[steep]\n",
    " \n",
    "    if steep:\n",
    "        x1, y1, x2, y2, dx, dy = y1, x1, y2, x2, dy, dx\n",
    "    if x2 < x1:\n",
    "        x1, x2, y1, y2 = x2, x1, y2, y1\n",
    " \n",
    "    grad = dy/dx\n",
    "    # print(p1, p2)\n",
    "    intery = y1 + _rfpart(x1) * grad\n",
    "    def draw_endpoint(pt):\n",
    "        x, y = pt\n",
    "        xend = round(x)\n",
    "        yend = y + grad * (xend - x)\n",
    "        # print(grad)\n",
    "        xgap = _rfpart(x + 0.5)\n",
    "        # print(string_id)\n",
    "        px, py = int(xend), int(yend)\n",
    "        putpixel(string_id, p(px, py), _rfpart(yend) * xgap)\n",
    "        # putpixel(string_id, p(px, py+1), _fpart(yend) * xgap)\n",
    "        return px\n",
    " \n",
    "    xstart = draw_endpoint(p(*p1)) + 1\n",
    "    xend = draw_endpoint(p(*p2))\n",
    "    # print((xstart, xend))\n",
    "    for xt in range(xstart, xend):\n",
    "        yt = int(intery)\n",
    "        putpixel(string_id, p(xt, yt), _rfpart(intery))\n",
    "        putpixel(string_id, p(xt, yt+1), _fpart(intery))\n",
    "        intery += grad\n",
    "\n",
    "for string_id_iterator in range(0,len(strings)):\n",
    "    swap = strings[string_id_iterator][0][0] > strings[string_id_iterator][1][0]\n",
    "    right = strings[string_id_iterator][1] if not swap else strings[string_id_iterator][0]\n",
    "    left = strings[string_id_iterator][0] if not swap else strings[string_id_iterator][1]\n",
    "    # print(strings[634])\n",
    "    draw_line(string_id_iterator, left, right)\n",
    "    # if left[0] < 497 and left[0] > 3 and left[1] < 497 and left[1] > 3 and right[0] < 497 and right[0] > 3 and right[1] < 497 and right[1] > 3:\n",
    "    #     draw_line(string_id_iterator, left + np.array([2, 2]), right + np.array([2, 2]))\n",
    "    #     draw_line(string_id_iterator, left + np.array([1, 1]), right + np.array([1, 1]))\n",
    "    #     draw_line(string_id_iterator, left + np.array([-1, -1]), right + np.array([-1, -1]))\n",
    "    #     draw_line(string_id_iterator, left + np.array([-2, -2]), right + np.array([-2, -2]))\n",
    "    # print(strings[15])\n",
    "    # print(string_id_iterator, \"/\", len(strings))\n",
    "matrix = scipy.sparse.coo_matrix((coo_matrix_values, (coo_matrix_rows, coo_matrix_cols))).tocsr()\n",
    "matrix"
   ]
  },
  {
   "cell_type": "code",
   "execution_count": 31,
   "metadata": {
    "pycharm": {
     "is_executing": false,
     "name": "#%%\n"
    }
   },
   "outputs": [
    {
     "name": "stdout",
     "output_type": "stream",
     "text": [
      "The exact solution is  x = 0                              \n"
     ]
    },
    {
     "data": {
      "text/plain": [
       "0.0"
      ]
     },
     "execution_count": 31,
     "metadata": {},
     "output_type": "execute_result"
    }
   ],
   "source": [
    "solution = scipy.sparse.linalg.lsqr(matrix, img_data)[0]\n",
    "np.amax(solution)"
   ]
  },
  {
   "cell_type": "code",
   "execution_count": 32,
   "metadata": {
    "pycharm": {
     "is_executing": false,
     "name": "#%%\n"
    }
   },
   "outputs": [
    {
     "data": {
      "text/plain": [
       "array([0., 0., 0., ..., 0., 0., 0.])"
      ]
     },
     "execution_count": 32,
     "metadata": {},
     "output_type": "execute_result"
    }
   ],
   "source": [
    "solution"
   ]
  },
  {
   "cell_type": "code",
   "execution_count": 33,
   "metadata": {
    "pycharm": {
     "is_executing": false,
     "name": "#%%\n"
    }
   },
   "outputs": [
    {
     "ename": "RuntimeError",
     "evalue": "Failed to import CairoSVG. drawSvg will be unable to output PNG or other raster image formats. See https://github.com/cduck/drawSvg#prerequisites for more details.\nOriginal OSError: no library called \"cairo\" was found\nno library called \"libcairo-2\" was found\ncannot load library 'libcairo.so.2': libcairo.so.2: cannot open shared object file: No such file or directory\ncannot load library 'libcairo.2.dylib': libcairo.2.dylib: cannot open shared object file: No such file or directory\ncannot load library 'libcairo-2.dll': libcairo-2.dll: cannot open shared object file: No such file or directory",
     "output_type": "error",
     "traceback": [
      "\u001b[0;31m---------------------------------------------------------------------------\u001b[0m",
      "\u001b[0;31mRuntimeError\u001b[0m                              Traceback (most recent call last)",
      "\u001b[0;32m<ipython-input-33-65372d3ad6ec>\u001b[0m in \u001b[0;36m<module>\u001b[0;34m\u001b[0m\n\u001b[1;32m      2\u001b[0m \u001b[0mboard\u001b[0m\u001b[0;34m.\u001b[0m\u001b[0mreset\u001b[0m\u001b[0;34m(\u001b[0m\u001b[0;34m)\u001b[0m\u001b[0;34m\u001b[0m\u001b[0;34m\u001b[0m\u001b[0m\n\u001b[1;32m      3\u001b[0m \u001b[0mlist\u001b[0m\u001b[0;34m(\u001b[0m\u001b[0mmap\u001b[0m\u001b[0;34m(\u001b[0m\u001b[0;32mlambda\u001b[0m \u001b[0mx\u001b[0m\u001b[0;34m:\u001b[0m \u001b[0mboard\u001b[0m\u001b[0;34m.\u001b[0m\u001b[0madd_string\u001b[0m\u001b[0;34m(\u001b[0m\u001b[0mstring_id_to_pins\u001b[0m\u001b[0;34m[\u001b[0m\u001b[0mx\u001b[0m\u001b[0;34m]\u001b[0m\u001b[0;34m[\u001b[0m\u001b[0;36m0\u001b[0m\u001b[0;34m]\u001b[0m\u001b[0;34m,\u001b[0m \u001b[0mstring_id_to_pins\u001b[0m\u001b[0;34m[\u001b[0m\u001b[0mx\u001b[0m\u001b[0;34m]\u001b[0m\u001b[0;34m[\u001b[0m\u001b[0;36m1\u001b[0m\u001b[0;34m]\u001b[0m\u001b[0;34m)\u001b[0m\u001b[0;34m,\u001b[0m \u001b[0mnp\u001b[0m\u001b[0;34m.\u001b[0m\u001b[0mwhere\u001b[0m\u001b[0;34m(\u001b[0m\u001b[0msolution\u001b[0m \u001b[0;34m>\u001b[0m \u001b[0mthreshold\u001b[0m\u001b[0;34m)\u001b[0m\u001b[0;34m[\u001b[0m\u001b[0;36m0\u001b[0m\u001b[0;34m]\u001b[0m\u001b[0;34m)\u001b[0m\u001b[0;34m)\u001b[0m\u001b[0;34m\u001b[0m\u001b[0;34m\u001b[0m\u001b[0m\n\u001b[0;32m----> 4\u001b[0;31m \u001b[0mboard\u001b[0m\u001b[0;34m.\u001b[0m\u001b[0mrender\u001b[0m\u001b[0;34m(\u001b[0m\u001b[0mbackground\u001b[0m\u001b[0;34m=\u001b[0m\u001b[0;34m\"#FFFFFF\"\u001b[0m\u001b[0;34m)\u001b[0m\u001b[0;34m.\u001b[0m\u001b[0mrasterize\u001b[0m\u001b[0;34m(\u001b[0m\u001b[0;34m)\u001b[0m\u001b[0;34m\u001b[0m\u001b[0;34m\u001b[0m\u001b[0m\n\u001b[0m\u001b[1;32m      5\u001b[0m \u001b[0;34m\u001b[0m\u001b[0m\n",
      "\u001b[0;32m~/.local/lib/python3.6/site-packages/drawSvg/drawing.py\u001b[0m in \u001b[0;36mrasterize\u001b[0;34m(self, toFile)\u001b[0m\n\u001b[1;32m    180\u001b[0m             \u001b[0;32mreturn\u001b[0m \u001b[0mRaster\u001b[0m\u001b[0;34m.\u001b[0m\u001b[0mfromSvgToFile\u001b[0m\u001b[0;34m(\u001b[0m\u001b[0mself\u001b[0m\u001b[0;34m.\u001b[0m\u001b[0masSvg\u001b[0m\u001b[0;34m(\u001b[0m\u001b[0;34m)\u001b[0m\u001b[0;34m,\u001b[0m \u001b[0mtoFile\u001b[0m\u001b[0;34m)\u001b[0m\u001b[0;34m\u001b[0m\u001b[0;34m\u001b[0m\u001b[0m\n\u001b[1;32m    181\u001b[0m         \u001b[0;32melse\u001b[0m\u001b[0;34m:\u001b[0m\u001b[0;34m\u001b[0m\u001b[0;34m\u001b[0m\u001b[0m\n\u001b[0;32m--> 182\u001b[0;31m             \u001b[0;32mreturn\u001b[0m \u001b[0mRaster\u001b[0m\u001b[0;34m.\u001b[0m\u001b[0mfromSvg\u001b[0m\u001b[0;34m(\u001b[0m\u001b[0mself\u001b[0m\u001b[0;34m.\u001b[0m\u001b[0masSvg\u001b[0m\u001b[0;34m(\u001b[0m\u001b[0;34m)\u001b[0m\u001b[0;34m)\u001b[0m\u001b[0;34m\u001b[0m\u001b[0;34m\u001b[0m\u001b[0m\n\u001b[0m\u001b[1;32m    183\u001b[0m     \u001b[0;32mdef\u001b[0m \u001b[0m_repr_svg_\u001b[0m\u001b[0;34m(\u001b[0m\u001b[0mself\u001b[0m\u001b[0;34m)\u001b[0m\u001b[0;34m:\u001b[0m\u001b[0;34m\u001b[0m\u001b[0;34m\u001b[0m\u001b[0m\n\u001b[1;32m    184\u001b[0m         \u001b[0;34m''' Display in Jupyter notebook '''\u001b[0m\u001b[0;34m\u001b[0m\u001b[0;34m\u001b[0m\u001b[0m\n",
      "\u001b[0;32m~/.local/lib/python3.6/site-packages/drawSvg/raster.py\u001b[0m in \u001b[0;36mfromSvg\u001b[0;34m(svgData)\u001b[0m\n\u001b[1;32m     35\u001b[0m     \u001b[0;34m@\u001b[0m\u001b[0mstaticmethod\u001b[0m\u001b[0;34m\u001b[0m\u001b[0;34m\u001b[0m\u001b[0m\n\u001b[1;32m     36\u001b[0m     \u001b[0;32mdef\u001b[0m \u001b[0mfromSvg\u001b[0m\u001b[0;34m(\u001b[0m\u001b[0msvgData\u001b[0m\u001b[0;34m)\u001b[0m\u001b[0;34m:\u001b[0m\u001b[0;34m\u001b[0m\u001b[0;34m\u001b[0m\u001b[0m\n\u001b[0;32m---> 37\u001b[0;31m         \u001b[0mpngData\u001b[0m \u001b[0;34m=\u001b[0m \u001b[0mcairosvg\u001b[0m\u001b[0;34m.\u001b[0m\u001b[0msvg2png\u001b[0m\u001b[0;34m(\u001b[0m\u001b[0mbytestring\u001b[0m\u001b[0;34m=\u001b[0m\u001b[0msvgData\u001b[0m\u001b[0;34m)\u001b[0m\u001b[0;34m\u001b[0m\u001b[0;34m\u001b[0m\u001b[0m\n\u001b[0m\u001b[1;32m     38\u001b[0m         \u001b[0;32mreturn\u001b[0m \u001b[0mRaster\u001b[0m\u001b[0;34m(\u001b[0m\u001b[0mpngData\u001b[0m\u001b[0;34m)\u001b[0m\u001b[0;34m\u001b[0m\u001b[0;34m\u001b[0m\u001b[0m\n\u001b[1;32m     39\u001b[0m     \u001b[0;34m@\u001b[0m\u001b[0mstaticmethod\u001b[0m\u001b[0;34m\u001b[0m\u001b[0;34m\u001b[0m\u001b[0m\n",
      "\u001b[0;32m~/.local/lib/python3.6/site-packages/drawSvg/missing.py\u001b[0m in \u001b[0;36m__getattr__\u001b[0;34m(self, name)\u001b[0m\n\u001b[1;32m      4\u001b[0m         \u001b[0mself\u001b[0m\u001b[0;34m.\u001b[0m\u001b[0merrorMsg\u001b[0m \u001b[0;34m=\u001b[0m \u001b[0merrorMsg\u001b[0m\u001b[0;34m\u001b[0m\u001b[0;34m\u001b[0m\u001b[0m\n\u001b[1;32m      5\u001b[0m     \u001b[0;32mdef\u001b[0m \u001b[0m__getattr__\u001b[0m\u001b[0;34m(\u001b[0m\u001b[0mself\u001b[0m\u001b[0;34m,\u001b[0m \u001b[0mname\u001b[0m\u001b[0;34m)\u001b[0m\u001b[0;34m:\u001b[0m\u001b[0;34m\u001b[0m\u001b[0;34m\u001b[0m\u001b[0m\n\u001b[0;32m----> 6\u001b[0;31m         \u001b[0;32mraise\u001b[0m \u001b[0mRuntimeError\u001b[0m\u001b[0;34m(\u001b[0m\u001b[0mself\u001b[0m\u001b[0;34m.\u001b[0m\u001b[0merrorMsg\u001b[0m\u001b[0;34m)\u001b[0m\u001b[0;34m\u001b[0m\u001b[0;34m\u001b[0m\u001b[0m\n\u001b[0m\u001b[1;32m      7\u001b[0m \u001b[0;34m\u001b[0m\u001b[0m\n",
      "\u001b[0;31mRuntimeError\u001b[0m: Failed to import CairoSVG. drawSvg will be unable to output PNG or other raster image formats. See https://github.com/cduck/drawSvg#prerequisites for more details.\nOriginal OSError: no library called \"cairo\" was found\nno library called \"libcairo-2\" was found\ncannot load library 'libcairo.so.2': libcairo.so.2: cannot open shared object file: No such file or directory\ncannot load library 'libcairo.2.dylib': libcairo.2.dylib: cannot open shared object file: No such file or directory\ncannot load library 'libcairo-2.dll': libcairo-2.dll: cannot open shared object file: No such file or directory"
     ]
    }
   ],
   "source": [
    "threshold = 0.7\n",
    "board.reset()\n",
    "list(map(lambda x: board.add_string(string_id_to_pins[x][0], string_id_to_pins[x][1]), np.where(solution > threshold)[0]))\n",
    "board.render(background=\"#FFFFFF\").rasterize()\n",
    "\n"
   ]
  },
  {
   "cell_type": "code",
   "execution_count": null,
   "metadata": {},
   "outputs": [],
   "source": []
  }
 ],
 "metadata": {
  "kernelspec": {
   "display_name": "Python 3",
   "language": "python",
   "name": "python3"
  },
  "language_info": {
   "codemirror_mode": {
    "name": "ipython",
    "version": 3
   },
   "file_extension": ".py",
   "mimetype": "text/x-python",
   "name": "python",
   "nbconvert_exporter": "python",
   "pygments_lexer": "ipython3",
   "version": "3.6.9"
  },
  "pycharm": {
   "stem_cell": {
    "cell_type": "raw",
    "metadata": {
     "collapsed": false
    },
    "source": []
   }
  }
 },
 "nbformat": 4,
 "nbformat_minor": 4
}
