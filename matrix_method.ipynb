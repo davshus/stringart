{
 "cells": [
  {
   "cell_type": "code",
   "execution_count": 1,
   "metadata": {
    "pycharm": {
     "is_executing": false
    }
   },
   "outputs": [],
   "source": [
    "# import cv2\n",
    "import math\n",
    "import numpy as np\n",
    "from PIL import Image\n",
    "import scipy\n",
    "import scipy.misc\n",
    "import scipy.sparse\n",
    "import scipy.sparse.linalg\n",
    "import matplotlib.pyplot as plt\n",
    "from artboard import Artboard, Yarn\n",
    "n=120\n",
    "d=304.8\n",
    "dim = 500\n",
    "board = Artboard(d, n)"
   ]
  },
  {
   "cell_type": "markdown",
   "metadata": {},
   "source": [
    "Our image is a square matrix of dimension $d \\times d$. Let $\\vec{p}$ be a vectorization of the image's pixel matrix with $n \\equiv d^2$ elements. Namely, $\\vec{p} \\in \\mathbb{R}^n$.\n",
    "\n",
    "Let $m$ be the number of strings that can be made on the artboard. If $b$ is the number of pegs on the board, then $m \\equiv \\tbinom{b}{2}$. Let $\\vec{s} \\in \\{0,1\\}^{m}$ be the string assignment vector.\n",
    "\n",
    "Let $\\mathbf{A} \\in \\mathbb{R}^{n \\times m}$ be the design matrix. $A_{ij}$ is the weight of string $j$ on pixel $i$.\n",
    "\n",
    "Let $k$ be the transparency constant of the string. For example, string with $k = 0.8$ lets $80\\%$ of light through at its most opaque point.\n",
    "\n",
    "Let $\\vec{v} \\equiv \\mathbf{A}\\vec{s}$. Then, our residual vector, $\\vec{r}$, is found by subtracting the desired pixel lightness from the amount of light collectively let through by the string's presence over a pixel: $r_i \\equiv p_i - k^{v_i}$.\n",
    "\n",
    "The problem statement is to minimize ${\\left\\Vert\\vec{r}\\right\\Vert}$.\n",
    "\n",
    "Our first goal is to create the design matrix, $\\mathbf{A}$."
   ]
  },
  {
   "cell_type": "code",
   "execution_count": 3,
   "metadata": {
    "collapsed": false,
    "jupyter": {
     "outputs_hidden": false
    },
    "pycharm": {
     "is_executing": false,
     "name": "#%%\n"
    }
   },
   "outputs": [
    {
     "data": {
      "text/plain": [
       "<matplotlib.image.AxesImage at 0x7fafd4afbcd0>"
      ]
     },
     "execution_count": 3,
     "metadata": {},
     "output_type": "execute_result"
    },
    {
     "data": {
      "image/png": "[encoded data removed]",
      "text/plain": [
       "<Figure size 432x288 with 1 Axes>"
      ]
     },
     "metadata": {
      "needs_background": "light"
     },
     "output_type": "display_data"
    }
   ],
   "source": [
    "#random 500x500 image\n",
    "img = 255 - np.array(Image.open('img/calibrate.png').convert('L'))\n",
    "plt.imshow(img, cmap='binary')\n",
    "# img = img**2"
   ]
  },
  {
   "cell_type": "code",
   "execution_count": 4,
   "metadata": {
    "collapsed": false,
    "jupyter": {
     "outputs_hidden": false
    },
    "pycharm": {
     "is_executing": false,
     "name": "#%%\n"
    }
   },
   "outputs": [
    {
     "data": {
      "text/plain": [
       "(array([[250,   0],\n",
       "        [228,   1],\n",
       "        [229,   1],\n",
       "        ...,\n",
       "        [270, 499],\n",
       "        [271, 499],\n",
       "        [272, 499]]),\n",
       " array([0, 0, 0, ..., 0, 0, 0], dtype=uint8))"
      ]
     },
     "execution_count": 4,
     "metadata": {},
     "output_type": "execute_result"
    }
   ],
   "source": [
    "img_test = np.zeros(img.shape)\n",
    "pixels_arr=[]\n",
    "img_data_arr=[]\n",
    "curr_pixel_id = 0\n",
    "pixel_id_lookup = [[-1] * dim] * dim\n",
    "for y in range(0, dim):\n",
    "    for x in range(0, dim):\n",
    "        if (x - dim/2)**2 + (y - dim/2)**2 <= (dim/2)**2:\n",
    "            pixels_arr.append([x, y])\n",
    "            pixel_id_lookup[x][y] = curr_pixel_id\n",
    "            img_data_arr.append(img[dim - y - 1][x])\n",
    "            curr_pixel_id += 1\n",
    "pixels = np.array(pixels_arr)\n",
    "img_data = np.array(img_data_arr)\n",
    "(pixels, img_data)"
   ]
  },
  {
   "cell_type": "code",
   "execution_count": 5,
   "metadata": {
    "collapsed": false,
    "jupyter": {
     "outputs_hidden": false
    },
    "pycharm": {
     "is_executing": false,
     "name": "#%%\n"
    }
   },
   "outputs": [
    {
     "data": {
      "text/plain": [
       "<matplotlib.collections.PathCollection at 0x7fafd4a62950>"
      ]
     },
     "execution_count": 5,
     "metadata": {},
     "output_type": "execute_result"
    },
    {
     "data": {
      "image/png": "[encoded data removed]",
      "text/plain": [
       "<Figure size 432x288 with 1 Axes>"
      ]
     },
     "metadata": {
      "needs_background": "light"
     },
     "output_type": "display_data"
    }
   ],
   "source": [
    "plt.axes().set_aspect('equal')\n",
    "plt.scatter(pixels[:,0],pixels[:,1])"
   ]
  },
  {
   "cell_type": "code",
   "execution_count": 6,
   "metadata": {
    "collapsed": false,
    "jupyter": {
     "outputs_hidden": false
    },
    "pycharm": {
     "is_executing": false,
     "name": "#%%\n"
    }
   },
   "outputs": [
    {
     "data": {
      "text/plain": [
       "array([[[250.        , 499.        ],\n",
       "        [236.9683469 , 498.65875415]],\n",
       "\n",
       "       [[250.        , 499.        ],\n",
       "        [223.97241265, 497.63595195]],\n",
       "\n",
       "       [[250.        , 499.        ],\n",
       "        [211.0478182 , 495.93439681]],\n",
       "\n",
       "       ...,\n",
       "\n",
       "       [[288.9521818 , 495.93439681],\n",
       "        [276.02758735, 497.63595195]],\n",
       "\n",
       "       [[288.9521818 , 495.93439681],\n",
       "        [263.0316531 , 498.65875415]],\n",
       "\n",
       "       [[276.02758735, 497.63595195],\n",
       "        [263.0316531 , 498.65875415]]])"
      ]
     },
     "execution_count": 6,
     "metadata": {},
     "output_type": "execute_result"
    }
   ],
   "source": [
    "strings_arr=[]\n",
    "string_id_to_pins=[]\n",
    "def get_point(pin):\n",
    "    angle = board._pin_angle_(pin)\n",
    "    radius = (dim - 2) / 2.0\n",
    "    return [radius * math.cos(angle), radius * math.sin(angle)]\n",
    "for i in range(0,n):\n",
    "    for j in range(i+1,n):\n",
    "        string_id_to_pins.append((i,j))\n",
    "        strings_arr.append([get_point(i), get_point(j)])\n",
    "        # if len(strings_arr) == 635:\n",
    "        #     print(i, j, strings_arr[634])\n",
    "strings = np.array(strings_arr) + np.array([dim/2.0, dim/2.0])\n",
    "strings"
   ]
  },
  {
   "cell_type": "markdown",
   "metadata": {},
   "source": [
    "Naive attempt at measuring effect of a string on a pixel.\n",
    "\n"
   ]
  },
  {
   "cell_type": "code",
   "execution_count": 7,
   "metadata": {
    "collapsed": false,
    "jupyter": {
     "outputs_hidden": false
    },
    "pycharm": {
     "is_executing": false,
     "name": "#%%\n"
    }
   },
   "outputs": [
    {
     "name": "stderr",
     "output_type": "stream",
     "text": [
      "/home/david/.local/lib/python3.7/site-packages/ipykernel_launcher.py:24: DeprecationWarning: In future, it will be an error for 'np.bool_' scalars to be interpreted as an index\n"
     ]
    },
    {
     "data": {
      "text/plain": [
       "<196319x7140 sparse matrix of type '<class 'numpy.float64'>'\n",
       "\twith 953705 stored elements in Compressed Sparse Row format>"
      ]
     },
     "execution_count": 7,
     "metadata": {},
     "output_type": "execute_result"
    }
   ],
   "source": [
    "\n",
    "coo_matrix_values = []\n",
    "coo_matrix_rows = []\n",
    "coo_matrix_cols = []\n",
    "max_score = 0.4\n",
    "def putpixel(string_id, xy, alpha=1):\n",
    "    # coo_matrix_values.append(val)\n",
    "    # coo_matrix_rows.append(pixel_id)\n",
    "    # coo_matrix_cols.append(string_id)\n",
    "    coo_matrix_values.append(max_score*alpha)\n",
    "    coo_matrix_rows.append(pixel_id_lookup[xy[0]][xy[1]])\n",
    "    coo_matrix_cols.append(string_id)\n",
    "def _fpart(x):\n",
    "    return x - int(x)\n",
    " \n",
    "def _rfpart(x):\n",
    "    return 1 - _fpart(x)\n",
    "def draw_line(string_id, p1, p2):\n",
    "    \"\"\"Draws an anti-aliased line in img from p1 to p2 with the given color.\"\"\"\n",
    "    x1, y1 = p1\n",
    "    x2, y2 = p2\n",
    "    # print(y2,y1)\n",
    "    dx, dy = x2-x1, y2-y1\n",
    "    steep = abs(dx) < abs(dy)\n",
    "    p = lambda px, py: ((px,py), (py,px))[steep]\n",
    " \n",
    "    if steep:\n",
    "        x1, y1, x2, y2, dx, dy = y1, x1, y2, x2, dy, dx\n",
    "    if x2 < x1:\n",
    "        x1, x2, y1, y2 = x2, x1, y2, y1\n",
    " \n",
    "    grad = dy/dx\n",
    "    # print(p1, p2)\n",
    "    intery = y1 + _rfpart(x1) * grad\n",
    "    def draw_endpoint(pt):\n",
    "        x, y = pt\n",
    "        xend = round(x)\n",
    "        yend = y + grad * (xend - x)\n",
    "        # print(grad)\n",
    "        xgap = _rfpart(x + 0.5)\n",
    "        # print(string_id)\n",
    "        px, py = int(xend), int(yend)\n",
    "        putpixel(string_id, p(px, py), _rfpart(yend) * xgap)\n",
    "        # putpixel(string_id, p(px, py+1), _fpart(yend) * xgap)\n",
    "        return px\n",
    " \n",
    "    xstart = draw_endpoint(p(*p1)) + 1\n",
    "    xend = draw_endpoint(p(*p2))\n",
    "    # print((xstart, xend))\n",
    "    for xt in range(xstart, xend):\n",
    "        yt = int(intery)\n",
    "        putpixel(string_id, p(xt, yt), _rfpart(intery))\n",
    "        putpixel(string_id, p(xt, yt+1), _fpart(intery))\n",
    "        intery += grad\n",
    "\n",
    "for string_id_iterator in range(0,len(strings)):\n",
    "    swap = strings[string_id_iterator][0][0] > strings[string_id_iterator][1][0]\n",
    "    right = strings[string_id_iterator][1] if not swap else strings[string_id_iterator][0]\n",
    "    left = strings[string_id_iterator][0] if not swap else strings[string_id_iterator][1]\n",
    "    # print(strings[634])\n",
    "    draw_line(string_id_iterator, left, right)\n",
    "    # if left[0] < 497 and left[0] > 3 and left[1] < 497 and left[1] > 3 and right[0] < 497 and right[0] > 3 and right[1] < 497 and right[1] > 3:\n",
    "    #     draw_line(string_id_iterator, left + np.array([2, 2]), right + np.array([2, 2]))\n",
    "    #     draw_line(string_id_iterator, left + np.array([1, 1]), right + np.array([1, 1]))\n",
    "    #     draw_line(string_id_iterator, left + np.array([-1, -1]), right + np.array([-1, -1]))\n",
    "    #     draw_line(string_id_iterator, left + np.array([-2, -2]), right + np.array([-2, -2]))\n",
    "    # print(strings[15])\n",
    "    # print(string_id_iterator, \"/\", len(strings))\n",
    "matrix = scipy.sparse.coo_matrix((coo_matrix_values, (coo_matrix_rows, coo_matrix_cols))).tocsr()\n",
    "matrix"
   ]
  },
  {
   "cell_type": "code",
   "execution_count": 8,
   "metadata": {
    "collapsed": false,
    "jupyter": {
     "outputs_hidden": false
    },
    "pycharm": {
     "is_executing": false,
     "name": "#%%\n"
    }
   },
   "outputs": [
    {
     "name": "stdout",
     "output_type": "stream",
     "text": [
      "The exact solution is  x = 0                              \n"
     ]
    },
    {
     "data": {
      "text/plain": [
       "0.0"
      ]
     },
     "execution_count": 8,
     "metadata": {},
     "output_type": "execute_result"
    }
   ],
   "source": [
    "solution = scipy.sparse.linalg.lsqr(matrix, img_data)[0]\n",
    "np.amax(solution)"
   ]
  },
  {
   "cell_type": "code",
   "execution_count": 9,
   "metadata": {
    "collapsed": false,
    "jupyter": {
     "outputs_hidden": false
    },
    "pycharm": {
     "is_executing": false,
     "name": "#%%\n"
    }
   },
   "outputs": [
    {
     "data": {
      "text/plain": [
       "array([0., 0., 0., ..., 0., 0., 0.])"
      ]
     },
     "execution_count": 9,
     "metadata": {},
     "output_type": "execute_result"
    }
   ],
   "source": [
    "solution"
   ]
  },
  {
   "cell_type": "code",
   "execution_count": 10,
   "metadata": {
    "collapsed": false,
    "jupyter": {
     "outputs_hidden": false
    },
    "pycharm": {
     "is_executing": false,
     "name": "#%%\n"
    }
   },
   "outputs": [
    {
     "data": {
      "image/png": "[encoded data removed]",
      "text/plain": [
       "<drawSvg.raster.Raster at 0x7fafaeb41b90>"
      ]
     },
     "execution_count": 10,
     "metadata": {},
     "output_type": "execute_result"
    }
   ],
   "source": [
    "threshold = 0.7\n",
    "board.reset()\n",
    "list(map(lambda x: board.add_string(string_id_to_pins[x][0], string_id_to_pins[x][1]), np.where(solution > threshold)[0]))\n",
    "board.render(background=\"#FFFFFF\").rasterize()\n",
    "\n"
   ]
  },
  {
   "cell_type": "code",
   "execution_count": null,
   "metadata": {},
   "outputs": [],
   "source": []
  }
 ],
 "metadata": {
  "kernelspec": {
   "display_name": "Python 3",
   "language": "python",
   "name": "python3"
  },
  "language_info": {
   "codemirror_mode": {
    "name": "ipython",
    "version": 3
   },
   "file_extension": ".py",
   "mimetype": "text/x-python",
   "name": "python",
   "nbconvert_exporter": "python",
   "pygments_lexer": "ipython3",
   "version": "3.7.5"
  },
  "pycharm": {
   "stem_cell": {
    "cell_type": "raw",
    "metadata": {
     "collapsed": false
    },
    "source": []
   }
  }
 },
 "nbformat": 4,
 "nbformat_minor": 4
}
